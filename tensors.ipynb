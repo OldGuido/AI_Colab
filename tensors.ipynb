{
  "nbformat": 4,
  "nbformat_minor": 0,
  "metadata": {
    "colab": {
      "provenance": [],
      "gpuType": "T4",
      "authorship_tag": "ABX9TyMMoODFVeGhECzDHWtJblrN",
      "include_colab_link": true
    },
    "kernelspec": {
      "name": "python3",
      "display_name": "Python 3"
    },
    "language_info": {
      "name": "python"
    },
    "accelerator": "GPU"
  },
  "cells": [
    {
      "cell_type": "markdown",
      "metadata": {
        "id": "view-in-github",
        "colab_type": "text"
      },
      "source": [
        "<a href=\"https://colab.research.google.com/github/OldGuido/AI_Colab/blob/main/tensors.ipynb\" target=\"_parent\"><img src=\"https://colab.research.google.com/assets/colab-badge.svg\" alt=\"Open In Colab\"/></a>"
      ]
    },
    {
      "cell_type": "markdown",
      "source": [
        "TENSORS\n",
        "A torch.Tensor is a multi-dimensional matrix containing elements of a single data type.\n",
        "\n",
        "Similar To Numpy Arrays, but full of fun things that make them work better on GPU's (vs regular CPU's).\n",
        "\n",
        "default data type of float32.\n",
        "\n",
        "More suitable for deep learning than a numpy array."
      ],
      "metadata": {
        "id": "6g106zyhpiPi"
      }
    },
    {
      "cell_type": "code",
      "source": [
        "import torch\n",
        "import numpy as np"
      ],
      "metadata": {
        "id": "EMMrJHHGppjK"
      },
      "execution_count": 4,
      "outputs": []
    },
    {
      "cell_type": "markdown",
      "source": [
        "Lists"
      ],
      "metadata": {
        "id": "1vC9riI9qZTM"
      }
    },
    {
      "cell_type": "code",
      "source": [
        "sample_list = [[1,2,3,4,5],[6,7,8,9,10]]\n",
        "sample_list"
      ],
      "metadata": {
        "colab": {
          "base_uri": "https://localhost:8080/"
        },
        "id": "-ffHYxoBqfvq",
        "outputId": "5023151f-c692-43b1-f396-0cdef4966179"
      },
      "execution_count": 5,
      "outputs": [
        {
          "output_type": "execute_result",
          "data": {
            "text/plain": [
              "[[1, 2, 3, 4, 5], [6, 7, 8, 9, 10]]"
            ]
          },
          "metadata": {},
          "execution_count": 5
        }
      ]
    },
    {
      "cell_type": "markdown",
      "source": [
        "NUMPY ARRAYS"
      ],
      "metadata": {
        "id": "wqMNi_n1rRvd"
      }
    },
    {
      "cell_type": "code",
      "source": [
        "np_array = np.random.rand(3,4)\n",
        "np_array"
      ],
      "metadata": {
        "colab": {
          "base_uri": "https://localhost:8080/"
        },
        "id": "5biSvupkqfyW",
        "outputId": "9673abcf-f266-465e-8978-5c193cde63ac"
      },
      "execution_count": 6,
      "outputs": [
        {
          "output_type": "execute_result",
          "data": {
            "text/plain": [
              "array([[0.18903044, 0.33100459, 0.35798225, 0.97518822],\n",
              "       [0.29030184, 0.30269361, 0.3552928 , 0.77782908],\n",
              "       [0.81617706, 0.53509636, 0.87085704, 0.14890694]])"
            ]
          },
          "metadata": {},
          "execution_count": 6
        }
      ]
    },
    {
      "cell_type": "markdown",
      "source": [
        "TENSORS\n"
      ],
      "metadata": {
        "id": "JhTO1QoxsEmo"
      }
    },
    {
      "cell_type": "code",
      "source": [
        "tensor_2d = torch.randn(3,4)\n",
        "tensor_2d"
      ],
      "metadata": {
        "colab": {
          "base_uri": "https://localhost:8080/"
        },
        "id": "JQrxSHdjsG4w",
        "outputId": "7d33fce6-fa38-4d15-9f34-9875179ad946"
      },
      "execution_count": 7,
      "outputs": [
        {
          "output_type": "execute_result",
          "data": {
            "text/plain": [
              "tensor([[-0.8340, -0.3354, -0.9757, -0.1334],\n",
              "        [-1.0431, -1.4871,  1.9356, -1.6255],\n",
              "        [-0.9034,  1.4770, -0.9495, -1.1746]])"
            ]
          },
          "metadata": {},
          "execution_count": 7
        }
      ]
    },
    {
      "cell_type": "code",
      "source": [
        "tensor_3d = torch.zeros(2,3,4)\n",
        "tensor_3d"
      ],
      "metadata": {
        "colab": {
          "base_uri": "https://localhost:8080/"
        },
        "id": "t64_WIrfsskE",
        "outputId": "130025eb-06d1-4283-9881-a8af52e9733a"
      },
      "execution_count": 8,
      "outputs": [
        {
          "output_type": "execute_result",
          "data": {
            "text/plain": [
              "tensor([[[0., 0., 0., 0.],\n",
              "         [0., 0., 0., 0.],\n",
              "         [0., 0., 0., 0.]],\n",
              "\n",
              "        [[0., 0., 0., 0.],\n",
              "         [0., 0., 0., 0.],\n",
              "         [0., 0., 0., 0.]]])"
            ]
          },
          "metadata": {},
          "execution_count": 8
        }
      ]
    },
    {
      "cell_type": "code",
      "source": [
        "## create tensor from numpy array\n",
        "my_tensor = torch.tensor(np_array)\n",
        "my_tensor"
      ],
      "metadata": {
        "colab": {
          "base_uri": "https://localhost:8080/"
        },
        "id": "MOgFPMZus_4_",
        "outputId": "f0fbb367-60b2-4570-9b58-b68165e9314d"
      },
      "execution_count": 10,
      "outputs": [
        {
          "output_type": "execute_result",
          "data": {
            "text/plain": [
              "tensor([[0.1890, 0.3310, 0.3580, 0.9752],\n",
              "        [0.2903, 0.3027, 0.3553, 0.7778],\n",
              "        [0.8162, 0.5351, 0.8709, 0.1489]], dtype=torch.float64)"
            ]
          },
          "metadata": {},
          "execution_count": 10
        }
      ]
    }
  ]
}